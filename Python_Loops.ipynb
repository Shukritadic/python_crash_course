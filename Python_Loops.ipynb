{
 "cells": [
  {
   "cell_type": "code",
   "execution_count": null,
   "id": "c8a64f46",
   "metadata": {},
   "outputs": [],
   "source": [
    "For loops"
   ]
  },
  {
   "cell_type": "code",
   "execution_count": 16,
   "id": "64346bf6",
   "metadata": {},
   "outputs": [
    {
     "name": "stdout",
     "output_type": "stream",
     "text": [
      "1\n",
      "2\n",
      "3\n",
      "4\n",
      "5\n"
     ]
    }
   ],
   "source": [
    "for i in [1, 2, 3, 4, 5]:\n",
    "    print(i)\n",
    "   \n",
    "        "
   ]
  },
  {
   "cell_type": "code",
   "execution_count": 17,
   "id": "426f7736",
   "metadata": {},
   "outputs": [],
   "source": [
    "#Nested for loops"
   ]
  },
  {
   "cell_type": "code",
   "execution_count": 20,
   "id": "c2d1f61e",
   "metadata": {},
   "outputs": [
    {
     "name": "stdout",
     "output_type": "stream",
     "text": [
      "1\n",
      "5\n",
      "10\n",
      "15\n",
      "20\n",
      "25\n",
      "2\n",
      "5\n",
      "10\n",
      "15\n",
      "20\n",
      "25\n",
      "3\n",
      "5\n",
      "10\n",
      "15\n",
      "20\n",
      "25\n",
      "4\n",
      "5\n",
      "10\n",
      "15\n",
      "20\n",
      "25\n",
      "5\n",
      "5\n",
      "10\n",
      "15\n",
      "20\n",
      "25\n"
     ]
    }
   ],
   "source": [
    " for i in [1, 2, 3, 4, 5]:\n",
    "        print(i)\n",
    "        for j in [5, 10, 15, 20, 25]:\n",
    "            print(j)"
   ]
  },
  {
   "cell_type": "code",
   "execution_count": 22,
   "id": "ed36b508",
   "metadata": {},
   "outputs": [],
   "source": [
    "#Using  nested_loops to create 2_dimensions"
   ]
  },
  {
   "cell_type": "code",
   "execution_count": 21,
   "id": "75536c8b",
   "metadata": {},
   "outputs": [
    {
     "name": "stdout",
     "output_type": "stream",
     "text": [
      "1 5\n",
      "1 10\n",
      "1 15\n",
      "1 20\n",
      "1 25\n",
      "2 5\n",
      "2 10\n",
      "2 15\n",
      "2 20\n",
      "2 25\n",
      "3 5\n",
      "3 10\n",
      "3 15\n",
      "3 20\n",
      "3 25\n",
      "4 5\n",
      "4 10\n",
      "4 15\n",
      "4 20\n",
      "4 25\n",
      "5 5\n",
      "5 10\n",
      "5 15\n",
      "5 20\n",
      "5 25\n"
     ]
    }
   ],
   "source": [
    "for i in [1, 2, 3, 4, 5]:\n",
    "        for j in [5, 10, 15, 20, 25]:\n",
    "            print(i,j)"
   ]
  },
  {
   "cell_type": "code",
   "execution_count": null,
   "id": "e89d5021",
   "metadata": {},
   "outputs": [],
   "source": []
  }
 ],
 "metadata": {
  "kernelspec": {
   "display_name": "Python 3 (ipykernel)",
   "language": "python",
   "name": "python3"
  },
  "language_info": {
   "codemirror_mode": {
    "name": "ipython",
    "version": 3
   },
   "file_extension": ".py",
   "mimetype": "text/x-python",
   "name": "python",
   "nbconvert_exporter": "python",
   "pygments_lexer": "ipython3",
   "version": "3.11.5"
  }
 },
 "nbformat": 4,
 "nbformat_minor": 5
}
