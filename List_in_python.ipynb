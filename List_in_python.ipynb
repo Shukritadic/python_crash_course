{
 "cells": [
  {
   "cell_type": "code",
   "execution_count": null,
   "id": "4d36c095",
   "metadata": {},
   "outputs": [],
   "source": [
    "#A list is a data structure in Python that is a mutable, or changeable, ordered sequence of elements.\n",
    "# List is a collection of item\n",
    "#List uses square brackets []"
   ]
  },
  {
   "cell_type": "code",
   "execution_count": 59,
   "id": "46d0930f",
   "metadata": {},
   "outputs": [],
   "source": [
    "integer_list = [1, 2, 3,9,4.8,16,5,10,15]\n",
    "heterogeneous_list = [\"string\", 0.1, True]\n",
    "list_of_lists = [integer_list, heterogeneous_list, []]\n",
    "list_length = len(integer_list) # equals 3\n",
    "list_sum = sum(integer_list) # equals 6"
   ]
  },
  {
   "cell_type": "code",
   "execution_count": 5,
   "id": "8f890e0c",
   "metadata": {},
   "outputs": [
    {
     "name": "stdout",
     "output_type": "stream",
     "text": [
      "6\n"
     ]
    }
   ],
   "source": [
    "print(list_sum)"
   ]
  },
  {
   "cell_type": "code",
   "execution_count": 7,
   "id": "6827ab27",
   "metadata": {},
   "outputs": [
    {
     "name": "stdout",
     "output_type": "stream",
     "text": [
      "['string', 0.1, True]\n"
     ]
    }
   ],
   "source": [
    "print(heterogeneous_list)"
   ]
  },
  {
   "cell_type": "code",
   "execution_count": 8,
   "id": "7b5c2bd1",
   "metadata": {},
   "outputs": [
    {
     "name": "stdout",
     "output_type": "stream",
     "text": [
      "[[1, 2, 3], ['string', 0.1, True], []]\n"
     ]
    }
   ],
   "source": [
    "print(list_of_lists)"
   ]
  },
  {
   "cell_type": "code",
   "execution_count": null,
   "id": "529167cd",
   "metadata": {},
   "outputs": [],
   "source": [
    "#Adding elements to the end of a list"
   ]
  },
  {
   "cell_type": "code",
   "execution_count": 13,
   "id": "f9292d6d",
   "metadata": {},
   "outputs": [],
   "source": [
    "integer_list.append(1)"
   ]
  },
  {
   "cell_type": "code",
   "execution_count": 9,
   "id": "a4f7e7d2",
   "metadata": {},
   "outputs": [],
   "source": [
    "#List methods"
   ]
  },
  {
   "cell_type": "code",
   "execution_count": 16,
   "id": "924e91e2",
   "metadata": {},
   "outputs": [
    {
     "name": "stdout",
     "output_type": "stream",
     "text": [
      "[1, 2, 3, 1]\n"
     ]
    }
   ],
   "source": [
    "print(integer_list)"
   ]
  },
  {
   "cell_type": "code",
   "execution_count": 18,
   "id": "a4b12468",
   "metadata": {},
   "outputs": [
    {
     "data": {
      "text/plain": [
       "1"
      ]
     },
     "execution_count": 18,
     "metadata": {},
     "output_type": "execute_result"
    }
   ],
   "source": [
    "integer_list.pop()"
   ]
  },
  {
   "cell_type": "code",
   "execution_count": 19,
   "id": "6c09d061",
   "metadata": {},
   "outputs": [
    {
     "data": {
      "text/plain": [
       "3"
      ]
     },
     "execution_count": 19,
     "metadata": {},
     "output_type": "execute_result"
    }
   ],
   "source": [
    "integer_list.pop()"
   ]
  },
  {
   "cell_type": "code",
   "execution_count": 22,
   "id": "46fcf321",
   "metadata": {},
   "outputs": [
    {
     "name": "stdout",
     "output_type": "stream",
     "text": [
      "[1, 2]\n"
     ]
    }
   ],
   "source": [
    "print(integer_list)"
   ]
  },
  {
   "cell_type": "code",
   "execution_count": 25,
   "id": "b3c7bd84",
   "metadata": {},
   "outputs": [
    {
     "name": "stdout",
     "output_type": "stream",
     "text": [
      "[1]\n"
     ]
    }
   ],
   "source": [
    "print(integer_list)"
   ]
  },
  {
   "cell_type": "code",
   "execution_count": null,
   "id": "570e2fb8",
   "metadata": {},
   "outputs": [],
   "source": [
    "#Adding an element to a list"
   ]
  },
  {
   "cell_type": "code",
   "execution_count": 26,
   "id": "fbd339db",
   "metadata": {},
   "outputs": [],
   "source": [
    "integer_list.append(10)"
   ]
  },
  {
   "cell_type": "code",
   "execution_count": 27,
   "id": "bb090228",
   "metadata": {},
   "outputs": [],
   "source": [
    "integer_list.append(100)"
   ]
  },
  {
   "cell_type": "code",
   "execution_count": 28,
   "id": "f126a2b6",
   "metadata": {},
   "outputs": [],
   "source": [
    "integer_list.append(25)"
   ]
  },
  {
   "cell_type": "code",
   "execution_count": 29,
   "id": "e5832c8d",
   "metadata": {},
   "outputs": [
    {
     "name": "stdout",
     "output_type": "stream",
     "text": [
      "[1, 10, 100, 25]\n"
     ]
    }
   ],
   "source": [
    "print(integer_list)"
   ]
  },
  {
   "cell_type": "code",
   "execution_count": null,
   "id": "a0b3ab65",
   "metadata": {},
   "outputs": [],
   "source": [
    "#Removing specic element from a list"
   ]
  },
  {
   "cell_type": "code",
   "execution_count": 30,
   "id": "a255f3bd",
   "metadata": {},
   "outputs": [],
   "source": [
    "integer_list.remove(100)"
   ]
  },
  {
   "cell_type": "code",
   "execution_count": null,
   "id": "bd7295a8",
   "metadata": {},
   "outputs": [],
   "source": [
    "#Reversing the list"
   ]
  },
  {
   "cell_type": "code",
   "execution_count": 36,
   "id": "343fcb61",
   "metadata": {},
   "outputs": [],
   "source": [
    "integer_list.reverse()"
   ]
  },
  {
   "cell_type": "code",
   "execution_count": 35,
   "id": "fabbe12e",
   "metadata": {},
   "outputs": [
    {
     "name": "stdout",
     "output_type": "stream",
     "text": [
      "None\n"
     ]
    }
   ],
   "source": [
    "print(integer_list.reverse())"
   ]
  },
  {
   "cell_type": "code",
   "execution_count": 50,
   "id": "474c40b3",
   "metadata": {},
   "outputs": [
    {
     "name": "stdout",
     "output_type": "stream",
     "text": [
      "[1, 2, 3]\n"
     ]
    }
   ],
   "source": [
    "print(integer_list)"
   ]
  },
  {
   "cell_type": "code",
   "execution_count": null,
   "id": "92eef0b4",
   "metadata": {},
   "outputs": [],
   "source": [
    "#Accessing the elements of a list(indexing)-You can get or set the nth element of a list with square brackets:\n"
   ]
  },
  {
   "cell_type": "code",
   "execution_count": 51,
   "id": "76d22793",
   "metadata": {},
   "outputs": [
    {
     "data": {
      "text/plain": [
       "3"
      ]
     },
     "execution_count": 51,
     "metadata": {},
     "output_type": "execute_result"
    }
   ],
   "source": [
    "integer_list[2]"
   ]
  },
  {
   "cell_type": "code",
   "execution_count": 42,
   "id": "3c3bd936",
   "metadata": {},
   "outputs": [],
   "source": [
    "#accesing elements from end of a list"
   ]
  },
  {
   "cell_type": "code",
   "execution_count": 52,
   "id": "3e208c39",
   "metadata": {},
   "outputs": [],
   "source": [
    "last_element= integer_list[-1] "
   ]
  },
  {
   "cell_type": "code",
   "execution_count": 49,
   "id": "2ecd2f63",
   "metadata": {},
   "outputs": [
    {
     "name": "stdout",
     "output_type": "stream",
     "text": [
      "3\n"
     ]
    }
   ],
   "source": [
    "print(last_element)"
   ]
  },
  {
   "cell_type": "code",
   "execution_count": 53,
   "id": "6475c67f",
   "metadata": {},
   "outputs": [],
   "source": [
    "#List_slicing##You can also use square brackets to slice lists. The slice i:j means all\n",
    "elements from i (inclusive) to j (not inclusive). If you leave off the start of\n",
    "the slice, you’ll slice from the beginning of the list, and if you leave of the\n",
    "end of the slice, you’ll slice until the end of the list:\n"
   ]
  },
  {
   "cell_type": "code",
   "execution_count": 56,
   "id": "bced02d2",
   "metadata": {},
   "outputs": [],
   "source": [
    "first_three = integer_list[:3] "
   ]
  },
  {
   "cell_type": "code",
   "execution_count": 57,
   "id": "2af95d4f",
   "metadata": {},
   "outputs": [
    {
     "name": "stdout",
     "output_type": "stream",
     "text": [
      "[1, 2, 3]\n"
     ]
    }
   ],
   "source": [
    "print(first_three)"
   ]
  },
  {
   "cell_type": "code",
   "execution_count": 61,
   "id": "2fee128d",
   "metadata": {},
   "outputs": [],
   "source": [
    "three_to_end = integer_list[3:]"
   ]
  },
  {
   "cell_type": "code",
   "execution_count": 62,
   "id": "28c656c0",
   "metadata": {},
   "outputs": [
    {
     "name": "stdout",
     "output_type": "stream",
     "text": [
      "[9, 4.8, 16, 5, 10, 15]\n"
     ]
    }
   ],
   "source": [
    "print(three_to_end)"
   ]
  },
  {
   "cell_type": "code",
   "execution_count": 63,
   "id": "29049507",
   "metadata": {},
   "outputs": [],
   "source": [
    "one_to_four = integer_list[1:5] "
   ]
  },
  {
   "cell_type": "code",
   "execution_count": 64,
   "id": "d92dcb1d",
   "metadata": {},
   "outputs": [
    {
     "name": "stdout",
     "output_type": "stream",
     "text": [
      "[2, 3, 9, 4.8]\n"
     ]
    }
   ],
   "source": [
    "print(one_to_four)"
   ]
  },
  {
   "cell_type": "code",
   "execution_count": 73,
   "id": "8a05948b",
   "metadata": {},
   "outputs": [],
   "source": [
    "without_first_and_last = integer_list[1:-1] "
   ]
  },
  {
   "cell_type": "code",
   "execution_count": 74,
   "id": "ef50ad80",
   "metadata": {},
   "outputs": [
    {
     "name": "stdout",
     "output_type": "stream",
     "text": [
      "[2, 3, 9, 4.8, 16, 5, 10]\n"
     ]
    }
   ],
   "source": [
    "print(without_first_and_last)"
   ]
  },
  {
   "cell_type": "code",
   "execution_count": 75,
   "id": "fd5e3797",
   "metadata": {},
   "outputs": [],
   "source": [
    "copy_of_integer_list = integer_list[:]"
   ]
  },
  {
   "cell_type": "code",
   "execution_count": 76,
   "id": "17258e64",
   "metadata": {},
   "outputs": [
    {
     "name": "stdout",
     "output_type": "stream",
     "text": [
      "[1, 2, 3, 9, 4.8, 16, 5, 10, 15]\n"
     ]
    }
   ],
   "source": [
    "print(copy_of_integer_list)"
   ]
  },
  {
   "cell_type": "code",
   "execution_count": 77,
   "id": "88c35c12",
   "metadata": {},
   "outputs": [],
   "source": [
    "#strides in list_slicing- A slice can take a third argument to indicate its stride, which can be\n",
    "negative"
   ]
  },
  {
   "cell_type": "code",
   "execution_count": 82,
   "id": "7909e064",
   "metadata": {},
   "outputs": [],
   "source": [
    "stride_one = integer_list[1:6:2]"
   ]
  },
  {
   "cell_type": "code",
   "execution_count": 83,
   "id": "3101aa26",
   "metadata": {},
   "outputs": [
    {
     "name": "stdout",
     "output_type": "stream",
     "text": [
      "[2, 9, 16]\n"
     ]
    }
   ],
   "source": [
    "print(stride_one)"
   ]
  },
  {
   "cell_type": "code",
   "execution_count": 84,
   "id": "2eb230d5",
   "metadata": {},
   "outputs": [],
   "source": [
    "# An in operator in list- Python has an in operator to check for list membership\n",
    "This check involves examining the elements of the list one at a time, which\n",
    "means that you probably shouldn’t use it unless you know your list is pretty\n",
    "small (or unless you don’t care how long the check takes)."
   ]
  },
  {
   "cell_type": "code",
   "execution_count": 85,
   "id": "1a08c220",
   "metadata": {},
   "outputs": [
    {
     "data": {
      "text/plain": [
       "True"
      ]
     },
     "execution_count": 85,
     "metadata": {},
     "output_type": "execute_result"
    }
   ],
   "source": [
    "1 in [1, 2, 3] "
   ]
  },
  {
   "cell_type": "code",
   "execution_count": 86,
   "id": "da4b84b1",
   "metadata": {},
   "outputs": [
    {
     "data": {
      "text/plain": [
       "False"
      ]
     },
     "execution_count": 86,
     "metadata": {},
     "output_type": "execute_result"
    }
   ],
   "source": [
    "0 in [1, 2, 3] "
   ]
  },
  {
   "cell_type": "code",
   "execution_count": 87,
   "id": "2185885a",
   "metadata": {},
   "outputs": [],
   "source": [
    "# concatinating lists together"
   ]
  },
  {
   "cell_type": "code",
   "execution_count": 88,
   "id": "8e86cd93",
   "metadata": {},
   "outputs": [],
   "source": [
    "List2 = [1, 2, 3]\n",
    "List2.extend([4, 5, 6]) # List 2 is now [1, 2, 3, 4, 5, 6"
   ]
  },
  {
   "cell_type": "code",
   "execution_count": 89,
   "id": "967577c9",
   "metadata": {},
   "outputs": [
    {
     "name": "stdout",
     "output_type": "stream",
     "text": [
      "[1, 2, 3, 4, 5, 6]\n"
     ]
    }
   ],
   "source": [
    "print(List2)"
   ]
  },
  {
   "cell_type": "code",
   "execution_count": 90,
   "id": "997d249a",
   "metadata": {},
   "outputs": [],
   "source": [
    "#If you don’t want to modify List2, you can use list addition:"
   ]
  },
  {
   "cell_type": "code",
   "execution_count": 93,
   "id": "345cfa35",
   "metadata": {},
   "outputs": [],
   "source": [
    "List2 = [1, 2, 3]\n",
    "List3 = List2 + [4, 5, 6] # List3 is [1, 2, 3, 4, 5, 6]; List2 is unchanged"
   ]
  },
  {
   "cell_type": "code",
   "execution_count": 95,
   "id": "169acd8c",
   "metadata": {},
   "outputs": [
    {
     "name": "stdout",
     "output_type": "stream",
     "text": [
      "[1, 2, 3, 4, 5, 6]\n"
     ]
    }
   ],
   "source": [
    "print(List3)"
   ]
  },
  {
   "cell_type": "code",
   "execution_count": null,
   "id": "b70f66c6",
   "metadata": {},
   "outputs": [],
   "source": []
  }
 ],
 "metadata": {
  "kernelspec": {
   "display_name": "Python 3 (ipykernel)",
   "language": "python",
   "name": "python3"
  },
  "language_info": {
   "codemirror_mode": {
    "name": "ipython",
    "version": 3
   },
   "file_extension": ".py",
   "mimetype": "text/x-python",
   "name": "python",
   "nbconvert_exporter": "python",
   "pygments_lexer": "ipython3",
   "version": "3.11.5"
  }
 },
 "nbformat": 4,
 "nbformat_minor": 5
}
